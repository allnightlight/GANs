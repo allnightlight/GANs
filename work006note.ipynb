{
 "cells": [
  {
   "cell_type": "markdown",
   "metadata": {},
   "source": [
    "# Implement Sinkhorn iteration with a tolerance terminate condition "
   ]
  },
  {
   "cell_type": "code",
   "execution_count": 1,
   "metadata": {},
   "outputs": [],
   "source": [
    "import numpy as np \n",
    "import matplotlib.pylab as plt\n",
    "import tensorflow as tf\n",
    "\n",
    "%matplotlib inline"
   ]
  },
  {
   "cell_type": "code",
   "execution_count": 2,
   "metadata": {},
   "outputs": [],
   "source": [
    "sess = None"
   ]
  },
  {
   "cell_type": "markdown",
   "metadata": {},
   "source": [
    "## 1. define Cuturi function"
   ]
  },
  {
   "cell_type": "code",
   "execution_count": 1,
   "metadata": {},
   "outputs": [],
   "source": [
    "def sinkhorn_iteration(_K, tol):\n",
    "    M, N = _K.get_shape().as_list()\n",
    "    \n",
    "    epsilon = 0\n",
    "    \n",
    "    p = tf.ones((M,1), dtype=tf.float64)/M\n",
    "    q = tf.ones((N,1), dtype=tf.float64)/N\n",
    "    def terminate_cond(_itr, _u, _v):\n",
    "        _phat = _u * tf.matmul(_K, _v)\n",
    "        _qhat = _v * tf.matmul(tf.transpose(_K), _u)\n",
    "        _err = tf.reduce_sum(tf.abs(_phat - p)) + tf.reduce_sum(tf.abs(_qhat - q)) \n",
    "        return tf.greater(_err, tol)\n",
    "    def sinkhorn_update(_itr, _u, _v):\n",
    "        _u = 1/tf.matmul(_K, _v)/M + epsilon\n",
    "        _v = 1/tf.matmul(tf.transpose(_K), _u)/N + epsilon\n",
    "        return (_itr+1, _u, _v)\n",
    "    \n",
    "    u0 = tf.ones((M,1), dtype=tf.float64)\n",
    "    v0 = tf.ones((N,1), dtype=tf.float64)\n",
    "    \n",
    "    _, _u, _v = tf.while_loop(terminate_cond, sinkhorn_update, [0, u0, v0])\n",
    "    _P = tf.matmul(\n",
    "        tf.diag(tf.squeeze(_u)), \n",
    "        tf.matmul(_K, tf.diag(tf.squeeze(_v))))\n",
    "    return _P, _u, _v"
   ]
  },
  {
   "cell_type": "code",
   "execution_count": 171,
   "metadata": {},
   "outputs": [],
   "source": [
    "def transport_cost(_X, _Y):\n",
    "    M = _X.get_shape().as_list()[0]\n",
    "    Naxis = len(_X.get_shape().as_list())\n",
    "    vecs = []\n",
    "    for k1 in range(M):\n",
    "        vecs.append( tf.reduce_sum(tf.abs(_Y - _X[k1,:]), axis= [*range(1, Naxis)]))\n",
    "    _TC = tf.stack(vecs)\n",
    "    return _TC"
   ]
  },
  {
   "cell_type": "code",
   "execution_count": 172,
   "metadata": {},
   "outputs": [],
   "source": [
    "def cuturi_func(_X, _Y, eps_thermal, tol):\n",
    "    _M = transport_cost(_X, _Y)\n",
    "    _K = tf.exp(-_M/eps_thermal)\n",
    "    _, _u, _v = sinkhorn_iteration(_K, tol)\n",
    "    _alpha = tf.log(_u) * eps_thermal + 1/2\n",
    "    _beta = tf.log(_v) * eps_thermal + 1/2\n",
    "    return tf.reduce_mean(_alpha) + tf.reduce_mean(_beta) - eps_thermal"
   ]
  },
  {
   "cell_type": "markdown",
   "metadata": {},
   "source": [
    "## 2 test"
   ]
  },
  {
   "cell_type": "markdown",
   "metadata": {},
   "source": [
    "### 2-1.  Sinkhorn iteration can work?"
   ]
  },
  {
   "cell_type": "code",
   "execution_count": 173,
   "metadata": {},
   "outputs": [],
   "source": [
    "M = 2**4\n",
    "N = 2**3\n",
    "K = np.random.rand(M, N)"
   ]
  },
  {
   "cell_type": "code",
   "execution_count": 174,
   "metadata": {},
   "outputs": [],
   "source": [
    "_K = tf.placeholder(dtype=tf.float64, shape=(M, N))"
   ]
  },
  {
   "cell_type": "code",
   "execution_count": 175,
   "metadata": {},
   "outputs": [],
   "source": [
    "tol = 1e-8"
   ]
  },
  {
   "cell_type": "code",
   "execution_count": 176,
   "metadata": {},
   "outputs": [],
   "source": [
    "_P, _u, _v = sinkhorn_iteration(_K, tol)"
   ]
  },
  {
   "cell_type": "code",
   "execution_count": 177,
   "metadata": {},
   "outputs": [],
   "source": [
    "if sess is not None:\n",
    "    sess.close()\n",
    "sess = tf.InteractiveSession()"
   ]
  },
  {
   "cell_type": "code",
   "execution_count": null,
   "metadata": {},
   "outputs": [],
   "source": [
    "P, u, v = sess.run((_P, _u, _v), feed_dict={_K: K} )"
   ]
  },
  {
   "cell_type": "markdown",
   "metadata": {},
   "source": [
    "check if P = diag(u) * K * diag(v)"
   ]
  },
  {
   "cell_type": "code",
   "execution_count": 49,
   "metadata": {},
   "outputs": [],
   "source": [
    "Pref = np.dot(np.diag(u.squeeze()), np.dot(K, np.diag(v.squeeze())))\n",
    "assert np.max(np.abs(P - Pref)) < 1e-16"
   ]
  },
  {
   "cell_type": "markdown",
   "metadata": {},
   "source": [
    "Check if ...\n",
    "* P * ones(N,1) = ones(M,1)/M \n",
    "* P.T * ones(M,1) = ones(N, 1)/N"
   ]
  },
  {
   "cell_type": "code",
   "execution_count": 50,
   "metadata": {},
   "outputs": [],
   "source": [
    "phat = np.dot(P, np.ones((N, 1)))\n",
    "p = np.ones((M, 1))/M\n",
    "qhat = np.dot(P.T, np.ones((M, 1)))\n",
    "q = np.ones((N, 1))/N"
   ]
  },
  {
   "cell_type": "code",
   "execution_count": 51,
   "metadata": {},
   "outputs": [
    {
     "data": {
      "text/plain": [
       "(8.446181323784607e-09, 4.163336342344337e-17)"
      ]
     },
     "execution_count": 51,
     "metadata": {},
     "output_type": "execute_result"
    }
   ],
   "source": [
    "np.sum(np.abs(phat - p)), np.sum(np.abs(qhat-q))"
   ]
  },
  {
   "cell_type": "markdown",
   "metadata": {},
   "source": [
    "### 2-2.  Check transport cost"
   ]
  },
  {
   "cell_type": "code",
   "execution_count": 82,
   "metadata": {},
   "outputs": [],
   "source": [
    "N = 2**1\n",
    "M = 2**1\n",
    "Ndim = [2**2, 2**2,]\n",
    "X = np.random.randn(M,*Ndim)\n",
    "Y = np.random.randn(N,*Ndim)"
   ]
  },
  {
   "cell_type": "code",
   "execution_count": 83,
   "metadata": {},
   "outputs": [],
   "source": [
    "_X = tf.placeholder(dtype=tf.float64, shape=(M, *Ndim))\n",
    "_Y = tf.placeholder(dtype=tf.float64, shape=(N, *Ndim))"
   ]
  },
  {
   "cell_type": "code",
   "execution_count": 84,
   "metadata": {},
   "outputs": [],
   "source": [
    "_M = transport_cost(_X, _Y)"
   ]
  },
  {
   "cell_type": "code",
   "execution_count": 85,
   "metadata": {},
   "outputs": [],
   "source": [
    "M = sess.run(_M, feed_dict={_X: X, _Y: Y})"
   ]
  },
  {
   "cell_type": "code",
   "execution_count": 97,
   "metadata": {},
   "outputs": [],
   "source": [
    "assert np.abs(M[0,0] - np.sum(np.abs(X[0,None]-Y[0,None]))) < 1e-16"
   ]
  },
  {
   "cell_type": "markdown",
   "metadata": {},
   "source": [
    "### 2-3.  Can Cuturi function be differentiated?"
   ]
  },
  {
   "cell_type": "code",
   "execution_count": 137,
   "metadata": {},
   "outputs": [],
   "source": [
    "if sess is not None:\n",
    "    sess.close()\n",
    "sess = tf.InteractiveSession()"
   ]
  },
  {
   "cell_type": "code",
   "execution_count": 148,
   "metadata": {},
   "outputs": [],
   "source": [
    "N = 2**5\n",
    "M = 2**5\n",
    "Ndim = [2**2, 2**2,]\n",
    "X = np.random.randn(M,*Ndim)\n",
    "Y = np.random.randn(N,*Ndim)"
   ]
  },
  {
   "cell_type": "code",
   "execution_count": 150,
   "metadata": {},
   "outputs": [],
   "source": [
    "eps_thermal = 1.0\n",
    "tol = 1e-4"
   ]
  },
  {
   "cell_type": "code",
   "execution_count": 151,
   "metadata": {},
   "outputs": [],
   "source": [
    "_X = tf.placeholder(dtype=tf.float64, shape=(M, *Ndim))\n",
    "_Y = tf.placeholder(dtype=tf.float64, shape=(N, *Ndim))"
   ]
  },
  {
   "cell_type": "code",
   "execution_count": 152,
   "metadata": {},
   "outputs": [],
   "source": [
    "_theta = tf.Variable(initial_value=0., dtype=tf.float64)"
   ]
  },
  {
   "cell_type": "code",
   "execution_count": 153,
   "metadata": {},
   "outputs": [],
   "source": [
    "_f = cuturi_func(_X, _theta * _Y, eps_thermal, tol)"
   ]
  },
  {
   "cell_type": "code",
   "execution_count": 163,
   "metadata": {},
   "outputs": [],
   "source": [
    "trainer = tf.train.AdadeltaOptimizer(1e-2).minimize(_f)"
   ]
  },
  {
   "cell_type": "code",
   "execution_count": 164,
   "metadata": {},
   "outputs": [],
   "source": [
    "sess.run(tf.global_variables_initializer())"
   ]
  },
  {
   "cell_type": "code",
   "execution_count": 169,
   "metadata": {},
   "outputs": [
    {
     "name": "stdout",
     "output_type": "stream",
     "text": [
      "[6.14857607394796, None]\n",
      "[6.148575939099349, None]\n",
      "[6.148575803313703, None]\n",
      "[6.148575670282152, None]\n",
      "[6.148575573765574, None]\n",
      "[6.148575476580117, None]\n",
      "[6.1485753787230415, None]\n",
      "[6.148575280191494, None]\n",
      "[6.148575194289385, None]\n",
      "[6.14857512330403, None]\n"
     ]
    }
   ],
   "source": [
    "for k1 in range(10):\n",
    "    f = sess.run([_f, trainer], feed_dict={_X: X, _Y: Y})\n",
    "    print(f)"
   ]
  },
  {
   "cell_type": "code",
   "execution_count": null,
   "metadata": {},
   "outputs": [],
   "source": []
  }
 ],
 "metadata": {
  "kernelspec": {
   "display_name": "Python 3",
   "language": "python",
   "name": "python3"
  },
  "language_info": {
   "codemirror_mode": {
    "name": "ipython",
    "version": 3
   },
   "file_extension": ".py",
   "mimetype": "text/x-python",
   "name": "python",
   "nbconvert_exporter": "python",
   "pygments_lexer": "ipython3",
   "version": "3.6.5"
  }
 },
 "nbformat": 4,
 "nbformat_minor": 2
}
