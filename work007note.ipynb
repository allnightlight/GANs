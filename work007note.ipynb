{
 "cells": [
  {
   "cell_type": "markdown",
   "metadata": {},
   "source": [
    "<u>Theme</u>\n",
    "\n",
    "Some kind of implementaion for Sinkhorn iteration\n",
    "\n",
    "S.Ukai, Oct. 20, 2018"
   ]
  },
  {
   "cell_type": "code",
   "execution_count": null,
   "metadata": {},
   "outputs": [],
   "source": [
    "import numpy as np\n",
    "import tensorflow as tf\n",
    "import matplotlib.pylab as plt\n",
    "import itertools\n",
    "import sys\n",
    "\n",
    "%matplotlib inline"
   ]
  },
  {
   "cell_type": "markdown",
   "metadata": {},
   "source": [
    "# 1.  Simple implementation of sinkhorn iteration"
   ]
  },
  {
   "cell_type": "markdown",
   "metadata": {},
   "source": [
    "## 1-1 the most simple way:"
   ]
  },
  {
   "cell_type": "code",
   "execution_count": null,
   "metadata": {},
   "outputs": [],
   "source": [
    "def baby_sinkhorn_iteration(Mxy, p, q, eps, L):\n",
    "    Kxy = np.exp(-Mxy/eps) \n",
    "    Nx, Ny = Mxy.shape\n",
    "    v = np.ones((Ny, 1))\n",
    "    for k1 in range(L):\n",
    "        u = p/np.dot(Kxy, v)\n",
    "        v = q/np.dot(Kxy.T, u)\n",
    "\n",
    "    P = np.dot(np.diag(u.squeeze()), np.dot(Kxy, np.diag(v.squeeze())))\n",
    "    return P, u, v"
   ]
  },
  {
   "cell_type": "code",
   "execution_count": null,
   "metadata": {},
   "outputs": [],
   "source": [
    "N  = 2**10\n",
    "X = np.random.randn(N, 2**3)\n",
    "Y = np.random.randn(N, 2**3)\n",
    "Mxy = np.sum(np.abs(X[:, np.newaxis, :] - Y[np.newaxis, :, :]), axis=2)"
   ]
  },
  {
   "cell_type": "code",
   "execution_count": null,
   "metadata": {},
   "outputs": [],
   "source": [
    "p = np.ones((N, 1))/N\n",
    "q = np.ones((N, 1))/N"
   ]
  },
  {
   "cell_type": "code",
   "execution_count": null,
   "metadata": {},
   "outputs": [],
   "source": [
    "L = 2**7\n",
    "eps = 1"
   ]
  },
  {
   "cell_type": "code",
   "execution_count": null,
   "metadata": {},
   "outputs": [],
   "source": [
    "P, u, v = baby_sinkhorn_iteration(Mxy, p, q, eps, L)"
   ]
  },
  {
   "cell_type": "code",
   "execution_count": null,
   "metadata": {},
   "outputs": [],
   "source": [
    "phat = np.sum(P, axis=1, keepdims=True)\n",
    "qhat = np.sum(P, axis=0, keepdims=True).T\n",
    "err = np.sum(np.abs(phat - p)) + np.sum(np.abs(qhat - q))\n",
    "print('err = ', err)"
   ]
  },
  {
   "cell_type": "markdown",
   "metadata": {},
   "source": [
    "## 1-2. Another simple implementation:"
   ]
  },
  {
   "cell_type": "code",
   "execution_count": null,
   "metadata": {},
   "outputs": [],
   "source": [
    "def log_sinkhorn_iteration(Mxy, p, q, eps, L):\n",
    "    \n",
    "    q = q.T\n",
    "\n",
    "    alpha = np.mean(Mxy, axis=1, keepdims=True)\n",
    "    beta = np.mean(Mxy, axis=0, keepdims=True)\n",
    "        \n",
    "    for k1 in range(L):\n",
    "        \n",
    "        beta = eps + eps * np.log(q) + \\\n",
    "            - eps * np.log( np.sum(np.exp(-(Mxy-alpha)/eps) , axis=0, keepdims=True)  )\n",
    "        alpha = eps + eps * np.log(p) + \\\n",
    "            - eps * np.log( np.sum(np.exp(-(Mxy-beta)/eps) , axis=1, keepdims=True)  )        \n",
    "        P = np.exp(-(Mxy-alpha-beta)/eps -1)\n",
    "        \n",
    "        qhat = np.sum(P, axis=0, keepdims=True)\n",
    "        err = np.sum(np.abs(qhat - q))\n",
    "        print(err)\n",
    "        \n",
    "    return P, None, None"
   ]
  },
  {
   "cell_type": "code",
   "execution_count": null,
   "metadata": {},
   "outputs": [],
   "source": [
    "N  = 2**2\n",
    "X = np.random.randn(N, 2**3)\n",
    "Y = np.random.randn(N, 2**3)\n",
    "Mxy = np.sum(np.abs(X[:, np.newaxis, :] - Y[np.newaxis, :, :]), axis=2)"
   ]
  },
  {
   "cell_type": "code",
   "execution_count": null,
   "metadata": {},
   "outputs": [],
   "source": [
    "p = np.ones((N, 1))/N\n",
    "q = np.ones((N, 1))/N"
   ]
  },
  {
   "cell_type": "code",
   "execution_count": null,
   "metadata": {},
   "outputs": [],
   "source": [
    "L = 2**3\n",
    "eps = 1.0"
   ]
  },
  {
   "cell_type": "code",
   "execution_count": null,
   "metadata": {},
   "outputs": [],
   "source": [
    "P, u, v = log_sinkhorn_iteration(Mxy, p, q, eps, L)"
   ]
  },
  {
   "cell_type": "markdown",
   "metadata": {},
   "source": [
    "# 2.  Robust implementation of sinkhorn iteration"
   ]
  },
  {
   "cell_type": "markdown",
   "metadata": {},
   "source": [
    "# 2-1. @NUMPY"
   ]
  },
  {
   "cell_type": "code",
   "execution_count": null,
   "metadata": {},
   "outputs": [],
   "source": [
    "def robust_sinkhorn_iteration(Mxy, p, q, eps, L, tol=1e-8):\n",
    "    \n",
    "    q = q.T\n",
    "\n",
    "    alpha = np.mean(Mxy, axis=1, keepdims=True)\n",
    "    beta = np.mean(Mxy, axis=0, keepdims=True)\n",
    "    \n",
    "    for k1 in range(L):\n",
    "        \n",
    "        print(np.mean(alpha), np.mean(beta))\n",
    "        \n",
    "        delta_row = np.min(Mxy - alpha, axis=0, keepdims=True)\n",
    "        \n",
    "        diff = np.min((Mxy-alpha-delta_row), axis=0)\n",
    "        assert np.all(diff == 0), diff\n",
    "        beta = eps + eps * np.log(q) + delta_row \\\n",
    "            - eps * np.log( np.sum(np.exp(-(Mxy-alpha-delta_row)/eps) , axis=0, keepdims=True)  )\n",
    "        \n",
    "        delta_col = np.min(Mxy - beta, axis=1, keepdims=True)\n",
    "        \n",
    "        diff = np.min((Mxy-beta-delta_col), axis=1)\n",
    "        #import pdb; pdb.set_trace() \n",
    "        assert np.all(diff == 0), diff\n",
    "        alpha = eps + eps * np.log(p) + delta_col \\\n",
    "            - eps * np.log( np.sum(np.exp(-(Mxy-beta-delta_col)/eps) , axis = 1, keepdims=True)  )\n",
    "        \n",
    "        P = np.exp(-(Mxy-alpha-beta)/eps -1)\n",
    "        qhat = np.sum(P, axis=0, keepdims=True)\n",
    "        err = np.sum(np.abs(qhat - q))\n",
    "        \n",
    "        if err < tol:\n",
    "            break\n",
    "    Nitr = k1 + 1\n",
    "        \n",
    "    return P, None, None, Nitr\n"
   ]
  },
  {
   "cell_type": "code",
   "execution_count": null,
   "metadata": {},
   "outputs": [],
   "source": [
    "N  = 2**7\n",
    "X = np.random.randn(N, 2**3)\n",
    "Y = np.random.randn(N, 2**3)\n",
    "Mxy = np.sum(np.abs(X[:, np.newaxis, :] - Y[np.newaxis, :, :]), axis=2)"
   ]
  },
  {
   "cell_type": "code",
   "execution_count": null,
   "metadata": {},
   "outputs": [],
   "source": [
    "mut_dist = np.mean(np.sum(np.abs(X-Y) , axis=1))"
   ]
  },
  {
   "cell_type": "code",
   "execution_count": null,
   "metadata": {},
   "outputs": [],
   "source": [
    "p = np.ones((N, 1))/N\n",
    "q = np.ones((N, 1))/N"
   ]
  },
  {
   "cell_type": "code",
   "execution_count": null,
   "metadata": {},
   "outputs": [],
   "source": [
    "L = 2**13\n",
    "eps = mut_dist * 0.01"
   ]
  },
  {
   "cell_type": "code",
   "execution_count": null,
   "metadata": {},
   "outputs": [],
   "source": [
    "P, _, _ , Nitr = robust_sinkhorn_iteration(Mxy, p, q, eps, L, tol = 1e-4)"
   ]
  },
  {
   "cell_type": "code",
   "execution_count": null,
   "metadata": {},
   "outputs": [],
   "source": [
    "Nitr"
   ]
  },
  {
   "cell_type": "code",
   "execution_count": null,
   "metadata": {},
   "outputs": [],
   "source": [
    "phat = np.sum(P, axis=1, keepdims=True)\n",
    "qhat = np.sum(P, axis=0, keepdims=True).T\n",
    "err = np.sum(np.abs(phat - p)) + np.sum(np.abs(qhat - q))\n",
    "print('err = ', err)"
   ]
  },
  {
   "cell_type": "code",
   "execution_count": null,
   "metadata": {},
   "outputs": [],
   "source": [
    "list_eps = np.logspace(-2, 0, 10) * mut_dist\n",
    "Nitr = [0, ] * 10\n",
    "for k1, eps in enumerate(list_eps):\n",
    "    P, _, _ , Nitr[k1] = robust_sinkhorn_iteration(Mxy, p, q, eps, L, tol = 1e-4)"
   ]
  },
  {
   "cell_type": "code",
   "execution_count": null,
   "metadata": {},
   "outputs": [],
   "source": [
    "plt.plot(list_eps/mut_dist, Nitr, '--x')\n",
    "plt.xscale('log')\n",
    "plt.yscale('log')"
   ]
  },
  {
   "cell_type": "markdown",
   "metadata": {},
   "source": [
    "# 2-2. @Tensorflow"
   ]
  },
  {
   "cell_type": "code",
   "execution_count": null,
   "metadata": {},
   "outputs": [],
   "source": [
    "sess = None"
   ]
  },
  {
   "cell_type": "markdown",
   "metadata": {},
   "source": [
    "### define a network"
   ]
  },
  {
   "cell_type": "code",
   "execution_count": null,
   "metadata": {},
   "outputs": [],
   "source": [
    "def _sinkhorn_iteration(_Mxy, _p, _q, _eps, _L, _tol):\n",
    "    \n",
    "    _q = tf.transpose(_q)\n",
    "\n",
    "    _alpha = tf.reduce_mean(_Mxy, axis=1, keepdims=True) * 0\n",
    "    _beta = tf.reduce_mean(_Mxy, axis=0, keepdims=True) * 0\n",
    "    \n",
    "    def terminate_cond(_itr, _alpha, _beta):\n",
    "        _P = tf.exp(-(_Mxy-_alpha-_beta)/_eps -1)\n",
    "        _qhat = tf.reduce_sum(_P, axis=0, keepdims=True)\n",
    "        _err = tf.reduce_sum(tf.abs(_qhat - _q))\n",
    "        return tf.logical_and(\n",
    "            tf.less(_itr, _L),\n",
    "            tf.greater(_err, _tol))\n",
    "        \n",
    "    def update_sinkhorn(_itr, _alpha, _beta):\n",
    "        \n",
    "        _delta_row = tf.reduce_min(_Mxy - _alpha, axis=0, keepdims=True)\n",
    "        _beta = _eps + _eps * tf.log(_q) + _delta_row \\\n",
    "              - _eps * tf.log( tf.reduce_sum(tf.exp(-(_Mxy-_alpha-_delta_row)/_eps) , axis=0, keepdims=True)  )\n",
    "        \n",
    "        _delta_col = tf.reduce_min(_Mxy - _beta, axis=1, keepdims=True)\n",
    "        _alpha = _eps + _eps * tf.log(_p) + _delta_col \\\n",
    "            - _eps * tf.log( tf.reduce_sum(tf.exp(-(_Mxy-_beta-_delta_col)/_eps) , axis = 1, keepdims=True)  )\n",
    "        \n",
    "        return _itr+1, _alpha, _beta\n",
    "    \n",
    "    _Nitr, _alpha, _beta = tf.while_loop(\n",
    "        terminate_cond,\n",
    "        update_sinkhorn,\n",
    "        [0, _alpha, _beta])\n",
    "\n",
    "    _dist = tf.reduce_sum(_p * _alpha) + tf.reduce_sum(_q * _beta) - _eps\n",
    "    _P = tf.exp(-(_Mxy-_alpha-_beta)/_eps -1)\n",
    "    return _P, _Nitr, _dist"
   ]
  },
  {
   "cell_type": "markdown",
   "metadata": {},
   "source": [
    "### session begin"
   ]
  },
  {
   "cell_type": "code",
   "execution_count": null,
   "metadata": {},
   "outputs": [],
   "source": [
    "tf.reset_default_graph()\n",
    "if sess is not None:\n",
    "    sess.close()\n",
    "sess = tf.InteractiveSession()"
   ]
  },
  {
   "cell_type": "code",
   "execution_count": null,
   "metadata": {},
   "outputs": [],
   "source": [
    "_Mxy = tf.placeholder(shape=(None, None), dtype=tf.float64)\n",
    "_p = tf.placeholder(shape=(None, 1), dtype=tf.float64)\n",
    "_q = tf.placeholder(shape=(None, 1), dtype=tf.float64)\n",
    "_eps = tf.placeholder(shape=(), dtype=tf.float64)\n",
    "_L = tf.placeholder(shape=(), dtype=tf.int32)\n",
    "_tol = tf.placeholder(shape=(), dtype=tf.float64)"
   ]
  },
  {
   "cell_type": "code",
   "execution_count": null,
   "metadata": {},
   "outputs": [],
   "source": [
    "_P, _Nitr, _dist = _sinkhorn_iteration(_Mxy, _p, _q, _eps, _L, _tol)"
   ]
  },
  {
   "cell_type": "markdown",
   "metadata": {},
   "source": [
    "### genenrate a dataset for test"
   ]
  },
  {
   "cell_type": "code",
   "execution_count": null,
   "metadata": {},
   "outputs": [],
   "source": [
    "N  = 2**7\n",
    "X = np.random.randn(N, 2**3)\n",
    "Y = np.random.randn(N, 2**3)\n",
    "Mxy = np.sum(np.abs(X[:, np.newaxis, :] - Y[np.newaxis, :, :]), axis=2)"
   ]
  },
  {
   "cell_type": "code",
   "execution_count": null,
   "metadata": {},
   "outputs": [],
   "source": [
    "mut_dist = np.mean(np.sum(np.abs(X-Y) , axis=1))"
   ]
  },
  {
   "cell_type": "code",
   "execution_count": null,
   "metadata": {},
   "outputs": [],
   "source": [
    "p = np.ones((N, 1))/N\n",
    "q = np.ones((N, 1))/N"
   ]
  },
  {
   "cell_type": "code",
   "execution_count": null,
   "metadata": {},
   "outputs": [],
   "source": [
    "L = 2**13\n",
    "eps = mut_dist * 0.005\n",
    "tol = 1e-4"
   ]
  },
  {
   "cell_type": "code",
   "execution_count": null,
   "metadata": {},
   "outputs": [],
   "source": [
    "feed_dict = {_Mxy: Mxy, _p: p, _q: q, _eps: eps, _L: L, _tol: tol }"
   ]
  },
  {
   "cell_type": "markdown",
   "metadata": {},
   "source": [
    "### evaluate"
   ]
  },
  {
   "cell_type": "code",
   "execution_count": null,
   "metadata": {},
   "outputs": [],
   "source": [
    "P, Nitr, dist = sess.run([_P, _Nitr, _dist], feed_dict)"
   ]
  },
  {
   "cell_type": "code",
   "execution_count": null,
   "metadata": {},
   "outputs": [],
   "source": [
    "phat = np.sum(P, axis=1, keepdims=True)\n",
    "qhat = np.sum(P, axis=0, keepdims=True).T\n",
    "err = np.sum(np.abs(phat - p)) + np.sum(np.abs(qhat - q))\n",
    "print('err = ', err)"
   ]
  },
  {
   "cell_type": "code",
   "execution_count": null,
   "metadata": {},
   "outputs": [],
   "source": [
    "Nitr"
   ]
  }
 ],
 "metadata": {
  "kernelspec": {
   "display_name": "Python 3",
   "language": "python",
   "name": "python3"
  },
  "language_info": {
   "codemirror_mode": {
    "name": "ipython",
    "version": 3
   },
   "file_extension": ".py",
   "mimetype": "text/x-python",
   "name": "python",
   "nbconvert_exporter": "python",
   "pygments_lexer": "ipython3",
   "version": "3.6.5"
  }
 },
 "nbformat": 4,
 "nbformat_minor": 2
}
