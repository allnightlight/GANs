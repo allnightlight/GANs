{
 "cells": [
  {
   "cell_type": "markdown",
   "metadata": {},
   "source": [
    "<u>Theme:</u>\n",
    "\n",
    "* Calculate the value of Cuturi function and its gradient by using the robust sinkhorn iteration\n",
    "* To confirm the feasiblity on Tensorflow"
   ]
  },
  {
   "cell_type": "code",
   "execution_count": 1,
   "metadata": {},
   "outputs": [],
   "source": [
    "import numpy as np \n",
    "import matplotlib.pylab as plt\n",
    "import tensorflow as tf\n",
    "\n",
    "%matplotlib inline"
   ]
  },
  {
   "cell_type": "code",
   "execution_count": 2,
   "metadata": {},
   "outputs": [],
   "source": [
    "sess = None"
   ]
  },
  {
   "cell_type": "markdown",
   "metadata": {},
   "source": [
    "# 1. load MNIST data"
   ]
  },
  {
   "cell_type": "code",
   "execution_count": 3,
   "metadata": {},
   "outputs": [],
   "source": [
    "mnist = tf.keras.datasets.mnist\n",
    "(x_train, y_train),(x_test, y_test) = mnist.load_data()\n",
    "x_train, x_test = x_train / 255.0, x_test / 255.0"
   ]
  },
  {
   "cell_type": "code",
   "execution_count": 4,
   "metadata": {},
   "outputs": [],
   "source": [
    "N = 2**10\n",
    "mut_dist_xy = np.mean(np.sum(np.abs(x_train[0:N-1,:,:] - x_train[1:N,:,:]), axis=(1,2)))"
   ]
  },
  {
   "cell_type": "markdown",
   "metadata": {},
   "source": [
    "# 2. define Cuturi function based on the robust sinkhorn iteration:"
   ]
  },
  {
   "cell_type": "code",
   "execution_count": 5,
   "metadata": {},
   "outputs": [],
   "source": [
    "def x_generator(_Z):\n",
    "    \n",
    "    f = lambda _XX, unit: tf.layers.dense(\n",
    "            _XX, \n",
    "            units=unit, \n",
    "            activation=None, \n",
    "            kernel_initializer = tf.random_normal_initializer(stddev=tf.sqrt( 2/tf.cast(_XX.get_shape().as_list()[1], dtype=tf.float32))))\n",
    "    _X = f(_Z, 500)\n",
    "    _X = tf.nn.relu(_X)\n",
    "    _X = f(_X, 500)\n",
    "    _X = tf.nn.relu(_X)\n",
    "    _X = f(_X, 28*28)\n",
    "    _X = tf.sigmoid(_X)\n",
    "    _X = tf.reshape(_X, shape=(-1, 28, 28))\n",
    "    return _X"
   ]
  },
  {
   "cell_type": "code",
   "execution_count": 6,
   "metadata": {},
   "outputs": [],
   "source": [
    "def robust_sinkhorn_iteration(_Mxy, _p, _q, _eps, _L, _tol):\n",
    "    \n",
    "    _q = tf.transpose(_q)\n",
    "\n",
    "    _alpha = _p * 0\n",
    "    _beta = _q * 0\n",
    "    \n",
    "    def terminate_cond(_itr, _alpha, _beta):\n",
    "        _P = tf.exp(-(_Mxy-_alpha-_beta)/_eps -1)\n",
    "        _qhat = tf.reduce_sum(_P, axis=0, keepdims=True)\n",
    "        _err = tf.reduce_sum(tf.abs(_qhat - _q))\n",
    "        return tf.logical_and(\n",
    "            tf.less(_itr, _L),\n",
    "            tf.greater(_err, _tol))\n",
    "        \n",
    "    def update_sinkhorn(_itr, _alpha, _beta):\n",
    "        \n",
    "        _delta_row = tf.reduce_min(_Mxy - _alpha, axis=0, keepdims=True)\n",
    "        _beta = _eps + _eps * tf.log(_q) + _delta_row \\\n",
    "              - _eps * tf.log( tf.reduce_sum(tf.exp(-(_Mxy-_alpha-_delta_row)/_eps) , axis=0, keepdims=True)  )\n",
    "        \n",
    "        _delta_col = tf.reduce_min(_Mxy - _beta, axis=1, keepdims=True)\n",
    "        _alpha = _eps + _eps * tf.log(_p) + _delta_col \\\n",
    "            - _eps * tf.log( tf.reduce_sum(tf.exp(-(_Mxy-_beta-_delta_col)/_eps) , axis = 1, keepdims=True)  )\n",
    "        \n",
    "        return _itr+1, _alpha, _beta\n",
    "    \n",
    "    _Nitr, _alpha, _beta = tf.while_loop(\n",
    "        terminate_cond,\n",
    "        update_sinkhorn,\n",
    "        [0, _alpha, _beta])\n",
    "\n",
    "    _dist = tf.reduce_sum(_p * _alpha) + tf.reduce_sum(_q * _beta) - _eps\n",
    "    _P = tf.exp(-(_Mxy-_alpha-_beta)/_eps -1)\n",
    "    return _P, _Nitr, _dist"
   ]
  },
  {
   "cell_type": "code",
   "execution_count": 7,
   "metadata": {},
   "outputs": [],
   "source": [
    "def network_constructor(Ndim, Nz):\n",
    "    \n",
    "    _Z = tf.placeholder(shape=(None, Nz), dtype=tf.float32)\n",
    "    _X = x_generator(_Z)\n",
    "    _Y = tf.placeholder(shape=(None, *Ndim), dtype=tf.float32)\n",
    "    \n",
    "    _X2 = tf.expand_dims(_X, axis=1)\n",
    "    _Y2 = tf.expand_dims(_Y, axis=0)\n",
    "    \n",
    "    _Mxy = tf.reduce_sum(tf.abs(_X2 - _Y2), axis=(2,3))\n",
    "    \n",
    "    _p = tf.placeholder(shape=(None, 1), dtype=tf.float32)\n",
    "    _q = tf.placeholder(shape=(None, 1), dtype=tf.float32)\n",
    "    \n",
    "    _eps = tf.placeholder(shape=(), dtype=tf.float32)\n",
    "    _L = tf.placeholder(shape=(), dtype=tf.int32)\n",
    "    _tol = tf.placeholder(shape=(), dtype=tf.float32)\n",
    "    \n",
    "    _, _Nitr, _dist = robust_sinkhorn_iteration(_Mxy, _p, _q, _eps, _L, _tol)\n",
    "    \n",
    "    _lr = tf.placeholder(shape=(), dtype=tf.float32)\n",
    "    \n",
    "    _optimizer = tf.train.AdamOptimizer(_lr).minimize(_dist)\n",
    "    \n",
    "    return _Z, _X, _Y, _p, _q, _eps, _L, _tol, _dist, _lr, _optimizer, _Nitr"
   ]
  },
  {
   "cell_type": "markdown",
   "metadata": {},
   "source": [
    "# 3. test run"
   ]
  },
  {
   "cell_type": "markdown",
   "metadata": {},
   "source": [
    "Define y_generator:"
   ]
  },
  {
   "cell_type": "code",
   "execution_count": 8,
   "metadata": {},
   "outputs": [],
   "source": [
    "Ndim = (28, 28)\n",
    "def y_generator(Nb):\n",
    "    idx = np.random.choice([*range(x_train.shape[0])], Nb)\n",
    "    return x_train[idx,:,:]"
   ]
  },
  {
   "cell_type": "markdown",
   "metadata": {},
   "source": [
    "Define z_generator:"
   ]
  },
  {
   "cell_type": "code",
   "execution_count": 9,
   "metadata": {},
   "outputs": [],
   "source": [
    "Nz = 2\n",
    "def z_generator(Nb):\n",
    "    return np.random.rand(Nb, Nz)"
   ]
  },
  {
   "cell_type": "markdown",
   "metadata": {},
   "source": [
    "Start session:"
   ]
  },
  {
   "cell_type": "code",
   "execution_count": 10,
   "metadata": {},
   "outputs": [],
   "source": [
    "tf.reset_default_graph()\n",
    "if sess is not None:\n",
    "    sess.close()\n",
    "sess = tf.InteractiveSession()"
   ]
  },
  {
   "cell_type": "markdown",
   "metadata": {},
   "source": [
    "Construct a network:"
   ]
  },
  {
   "cell_type": "code",
   "execution_count": 11,
   "metadata": {},
   "outputs": [],
   "source": [
    "_Z, _X, _Y, _p, _q, _eps, _L, _tol, _dist, _lr, _optimizer, _Nitr = \\\n",
    "    network_constructor(Ndim, Nz)"
   ]
  },
  {
   "cell_type": "markdown",
   "metadata": {},
   "source": [
    "Run fitting:"
   ]
  },
  {
   "cell_type": "code",
   "execution_count": 12,
   "metadata": {},
   "outputs": [],
   "source": [
    "sess.run(tf.global_variables_initializer())"
   ]
  },
  {
   "cell_type": "markdown",
   "metadata": {},
   "source": [
    "Setup fit parameters:"
   ]
  },
  {
   "cell_type": "code",
   "execution_count": 13,
   "metadata": {},
   "outputs": [],
   "source": [
    "eps = mut_dist_xy * 0.01\n",
    "L = 2**10\n",
    "tol = 1e-4\n",
    "lr = 0.01\n",
    "feed_dict = {_eps: eps, _L: L, _tol: tol, _lr: lr}"
   ]
  },
  {
   "cell_type": "markdown",
   "metadata": {},
   "source": [
    "Setup minibatch parameters:"
   ]
  },
  {
   "cell_type": "code",
   "execution_count": 14,
   "metadata": {},
   "outputs": [],
   "source": [
    "Nb = 2**5\n",
    "p = np.ones((Nb, 1))/Nb\n",
    "q = np.ones((Nb, 1))/Nb"
   ]
  },
  {
   "cell_type": "code",
   "execution_count": 15,
   "metadata": {},
   "outputs": [],
   "source": [
    "Z = z_generator(Nb)\n",
    "X = sess.run(_X, feed_dict={_Z: Z})"
   ]
  },
  {
   "cell_type": "code",
   "execution_count": 16,
   "metadata": {},
   "outputs": [
    {
     "name": "stdout",
     "output_type": "stream",
     "text": [
      " itr = 1875 loss = 67.44 Nitr = 1024 [EOL]      "
     ]
    }
   ],
   "source": [
    "import sys\n",
    "for k1 in range(x_train.shape[0] // Nb):\n",
    "    Z = z_generator(Nb)\n",
    "    Y = y_generator(Nb)\n",
    "    X = sess.run(_X, feed_dict={_Z: Z})\n",
    "    _, Nitr, loss = sess.run([_optimizer, _Nitr, _dist], feed_dict={**feed_dict, _Z: Z, _Y: Y, _p: p, _q: q})\n",
    "    sys.stdout.write('\\r itr = %3d loss = %5.2f Nitr = %4d [EOL]      ' % (k1+1, loss, Nitr))"
   ]
  },
  {
   "cell_type": "code",
   "execution_count": 17,
   "metadata": {},
   "outputs": [
    {
     "data": {
      "image/png": "[encoded data removed]",
      "text/plain": [
       "<Figure size 840.467x840.467 with 64 Axes>"
      ]
     },
     "metadata": {},
     "output_type": "display_data"
    }
   ],
   "source": [
    "import itertools\n",
    "nrow, ncol = (8, 8)\n",
    "\n",
    "Z = np.array([*itertools.product(np.linspace(0,1,nrow),np.linspace(0,1,ncol))])\n",
    "\n",
    "#Z = z_generator(nrow * ncol)\n",
    "X = sess.run(_X, feed_dict={_Z: Z})\n",
    "plt.figure(figsize=[30/2.57, 30.0/2.57])\n",
    "plt.clf()\n",
    "for k1 in range(nrow * ncol):\n",
    "    ax = plt.subplot(nrow, ncol, k1+1)\n",
    "    ax.imshow(X[k1,:,:])\n",
    "    ax.set_axis_off()\n",
    "plt.tight_layout(pad=0, h_pad=0, w_pad=0)"
   ]
  },
  {
   "cell_type": "markdown",
   "metadata": {},
   "source": [
    "## easy check for sinkhorn iteration:"
   ]
  },
  {
   "cell_type": "code",
   "execution_count": 18,
   "metadata": {},
   "outputs": [],
   "source": [
    "def robust_sinkhorn_iteration_numpy(Mxy, p, q, eps, L, tol=1e-8):\n",
    "    \n",
    "    q = q.T\n",
    "\n",
    "    alpha = np.mean(Mxy, axis=1, keepdims=True) * 0\n",
    "    beta = np.mean(Mxy, axis=0, keepdims=True) * 0\n",
    "    \n",
    "    for k1 in range(L):\n",
    "              \n",
    "        delta_row = np.min(Mxy - alpha, axis=0, keepdims=True)\n",
    "        \n",
    "        diff = np.min((Mxy-alpha-delta_row), axis=0)\n",
    "        assert np.all(diff == 0), diff\n",
    "        beta = eps + eps * np.log(q) + delta_row \\\n",
    "            - eps * np.log( np.sum(np.exp(-(Mxy-alpha-delta_row)/eps) , axis=0, keepdims=True)  )\n",
    "        \n",
    "        delta_col = np.min(Mxy - beta, axis=1, keepdims=True)\n",
    "        \n",
    "        diff = np.min((Mxy-beta-delta_col), axis=1)\n",
    "        #import pdb; pdb.set_trace() \n",
    "        assert np.all(diff == 0), diff\n",
    "        alpha = eps + eps * np.log(p) + delta_col \\\n",
    "            - eps * np.log( np.sum(np.exp(-(Mxy-beta-delta_col)/eps) , axis = 1, keepdims=True)  )\n",
    "        \n",
    "        P = np.exp(-(Mxy-alpha-beta)/eps -1)\n",
    "        qhat = np.sum(P, axis=0, keepdims=True)\n",
    "        err = np.sum(np.abs(qhat - q))\n",
    "        \n",
    "        if err < tol:\n",
    "            break\n",
    "    Nitr = k1 + 1\n",
    "        \n",
    "    return P, alpha, beta, Nitr"
   ]
  },
  {
   "cell_type": "code",
   "execution_count": 19,
   "metadata": {},
   "outputs": [],
   "source": [
    "Mxy = np.sum(np.abs(X[:, np.newaxis, :, :] - Y[np.newaxis, :, :, :]), axis=(2,3))"
   ]
  },
  {
   "cell_type": "code",
   "execution_count": 20,
   "metadata": {},
   "outputs": [
    {
     "ename": "ValueError",
     "evalue": "operands could not be broadcast together with shapes (32,1) (64,1) ",
     "output_type": "error",
     "traceback": [
      "\u001b[1;31m---------------------------------------------------------------------------\u001b[0m",
      "\u001b[1;31mValueError\u001b[0m                                Traceback (most recent call last)",
      "\u001b[1;32m<ipython-input-20-c20302393d37>\u001b[0m in \u001b[0;36m<module>\u001b[1;34m()\u001b[0m\n\u001b[1;32m----> 1\u001b[1;33m \u001b[0mP\u001b[0m\u001b[1;33m,\u001b[0m \u001b[0malpha\u001b[0m\u001b[1;33m,\u001b[0m \u001b[0mbeta\u001b[0m \u001b[1;33m,\u001b[0m \u001b[0mNitr\u001b[0m \u001b[1;33m=\u001b[0m \u001b[0mrobust_sinkhorn_iteration_numpy\u001b[0m\u001b[1;33m(\u001b[0m\u001b[0mMxy\u001b[0m\u001b[1;33m,\u001b[0m \u001b[0mp\u001b[0m\u001b[1;33m,\u001b[0m \u001b[0mq\u001b[0m\u001b[1;33m,\u001b[0m \u001b[0mmut_dist_xy\u001b[0m\u001b[1;33m*\u001b[0m\u001b[1;36m0.01\u001b[0m\u001b[1;33m,\u001b[0m \u001b[0mL\u001b[0m\u001b[1;33m,\u001b[0m \u001b[0mtol\u001b[0m \u001b[1;33m=\u001b[0m \u001b[1;36m1e-4\u001b[0m\u001b[1;33m)\u001b[0m\u001b[1;33m\u001b[0m\u001b[0m\n\u001b[0m\u001b[0;32m      2\u001b[0m \u001b[0mprint\u001b[0m\u001b[1;33m(\u001b[0m\u001b[1;34m'Sinkhorn iteration = %2d'\u001b[0m \u001b[1;33m%\u001b[0m \u001b[0mNitr\u001b[0m\u001b[1;33m)\u001b[0m\u001b[1;33m\u001b[0m\u001b[0m\n",
      "\u001b[1;32m<ipython-input-18-272728618daa>\u001b[0m in \u001b[0;36mrobust_sinkhorn_iteration_numpy\u001b[1;34m(Mxy, p, q, eps, L, tol)\u001b[0m\n\u001b[0;32m     19\u001b[0m         \u001b[1;31m#import pdb; pdb.set_trace()\u001b[0m\u001b[1;33m\u001b[0m\u001b[1;33m\u001b[0m\u001b[0m\n\u001b[0;32m     20\u001b[0m         \u001b[1;32massert\u001b[0m \u001b[0mnp\u001b[0m\u001b[1;33m.\u001b[0m\u001b[0mall\u001b[0m\u001b[1;33m(\u001b[0m\u001b[0mdiff\u001b[0m \u001b[1;33m==\u001b[0m \u001b[1;36m0\u001b[0m\u001b[1;33m)\u001b[0m\u001b[1;33m,\u001b[0m \u001b[0mdiff\u001b[0m\u001b[1;33m\u001b[0m\u001b[0m\n\u001b[1;32m---> 21\u001b[1;33m         \u001b[0malpha\u001b[0m \u001b[1;33m=\u001b[0m \u001b[0meps\u001b[0m \u001b[1;33m+\u001b[0m \u001b[0meps\u001b[0m \u001b[1;33m*\u001b[0m \u001b[0mnp\u001b[0m\u001b[1;33m.\u001b[0m\u001b[0mlog\u001b[0m\u001b[1;33m(\u001b[0m\u001b[0mp\u001b[0m\u001b[1;33m)\u001b[0m \u001b[1;33m+\u001b[0m \u001b[0mdelta_col\u001b[0m             \u001b[1;33m-\u001b[0m \u001b[0meps\u001b[0m \u001b[1;33m*\u001b[0m \u001b[0mnp\u001b[0m\u001b[1;33m.\u001b[0m\u001b[0mlog\u001b[0m\u001b[1;33m(\u001b[0m \u001b[0mnp\u001b[0m\u001b[1;33m.\u001b[0m\u001b[0msum\u001b[0m\u001b[1;33m(\u001b[0m\u001b[0mnp\u001b[0m\u001b[1;33m.\u001b[0m\u001b[0mexp\u001b[0m\u001b[1;33m(\u001b[0m\u001b[1;33m-\u001b[0m\u001b[1;33m(\u001b[0m\u001b[0mMxy\u001b[0m\u001b[1;33m-\u001b[0m\u001b[0mbeta\u001b[0m\u001b[1;33m-\u001b[0m\u001b[0mdelta_col\u001b[0m\u001b[1;33m)\u001b[0m\u001b[1;33m/\u001b[0m\u001b[0meps\u001b[0m\u001b[1;33m)\u001b[0m \u001b[1;33m,\u001b[0m \u001b[0maxis\u001b[0m \u001b[1;33m=\u001b[0m \u001b[1;36m1\u001b[0m\u001b[1;33m,\u001b[0m \u001b[0mkeepdims\u001b[0m\u001b[1;33m=\u001b[0m\u001b[1;32mTrue\u001b[0m\u001b[1;33m)\u001b[0m  \u001b[1;33m)\u001b[0m\u001b[1;33m\u001b[0m\u001b[0m\n\u001b[0m\u001b[0;32m     22\u001b[0m \u001b[1;33m\u001b[0m\u001b[0m\n\u001b[0;32m     23\u001b[0m         \u001b[0mP\u001b[0m \u001b[1;33m=\u001b[0m \u001b[0mnp\u001b[0m\u001b[1;33m.\u001b[0m\u001b[0mexp\u001b[0m\u001b[1;33m(\u001b[0m\u001b[1;33m-\u001b[0m\u001b[1;33m(\u001b[0m\u001b[0mMxy\u001b[0m\u001b[1;33m-\u001b[0m\u001b[0malpha\u001b[0m\u001b[1;33m-\u001b[0m\u001b[0mbeta\u001b[0m\u001b[1;33m)\u001b[0m\u001b[1;33m/\u001b[0m\u001b[0meps\u001b[0m \u001b[1;33m-\u001b[0m\u001b[1;36m1\u001b[0m\u001b[1;33m)\u001b[0m\u001b[1;33m\u001b[0m\u001b[0m\n",
      "\u001b[1;31mValueError\u001b[0m: operands could not be broadcast together with shapes (32,1) (64,1) "
     ]
    }
   ],
   "source": [
    "P, alpha, beta , Nitr = robust_sinkhorn_iteration_numpy(Mxy, p, q, mut_dist_xy*0.01, L, tol = 1e-4)\n",
    "print('Sinkhorn iteration = %2d' % Nitr)"
   ]
  },
  {
   "cell_type": "code",
   "execution_count": null,
   "metadata": {},
   "outputs": [],
   "source": [
    "np.sum(np.abs(np.sum(P, axis=0) - q.T))"
   ]
  },
  {
   "cell_type": "code",
   "execution_count": null,
   "metadata": {},
   "outputs": [],
   "source": [
    "np.sum(np.abs(np.sum(P, axis=1) - p))"
   ]
  },
  {
   "cell_type": "code",
   "execution_count": null,
   "metadata": {},
   "outputs": [],
   "source": [
    "plt.plot(alpha, beta.T, 'x')"
   ]
  },
  {
   "cell_type": "code",
   "execution_count": null,
   "metadata": {},
   "outputs": [],
   "source": []
  }
 ],
 "metadata": {
  "kernelspec": {
   "display_name": "Python 3",
   "language": "python",
   "name": "python3"
  },
  "language_info": {
   "codemirror_mode": {
    "name": "ipython",
    "version": 3
   },
   "file_extension": ".py",
   "mimetype": "text/x-python",
   "name": "python",
   "nbconvert_exporter": "python",
   "pygments_lexer": "ipython3",
   "version": "3.6.5"
  }
 },
 "nbformat": 4,
 "nbformat_minor": 2
}
